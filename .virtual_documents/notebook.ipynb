











import pandas as pd
import seaborn as sns
import matplotlib.pyplot as plt
%matplotlib inline








df_day = pd.read_csv('data\day.csv')
df_day


df_hour = pd.read_csv('data\hour.csv')
df_hour











df_day.isna().sum()





df_hour.isna().sum()








df_day.duplicated().sum()





df_hour.duplicated().sum()








df_day.info()


df_hour.info()














df_day.describe()


df_hour.describe()





























# Agregasi jumlah penyewaan per jam
hourly_usage = df_hour.groupby('hr')['cnt'].mean().reset_index()

huh = hourly_usage.copy()

huh


hour_df = df_hour.copy()

hourly_workday = hour_df[hour_df['workingday'] == 1].groupby('hr')['cnt'].mean().reset_index()
hourly_weekend = hour_df[hour_df['workingday'] == 0].groupby('hr')['cnt'].mean().reset_index()

# Visualisasi perbandingan pola penyewaan
plt.figure(figsize=(12,6))
sns.lineplot(data=hourly_workday, x='hr', y='cnt', label="Hari Kerja", marker="o")
sns.lineplot(data=hourly_weekend, x='hr', y='cnt', label="Akhir Pekan", marker="o")
plt.xticks(range(0, 24))
plt.title("Perbandingan Penyewaan Sepeda per Jam: Hari Kerja vs. Akhir Pekan")
plt.xlabel("Jam")
plt.ylabel("Jumlah Penyewaan Rata-rata")
plt.legend()
plt.grid()
plt.show()















